{
 "cells": [
  {
   "cell_type": "markdown",
   "id": "0a3ea205-1f17-43ff-937a-bb58360299b0",
   "metadata": {},
   "source": [
    "## Let's assume we have downloaded the random survival forest (RSF) models at the following location "
   ]
  },
  {
   "cell_type": "markdown",
   "id": "0d9ccbcc-43de-43da-8ec7-6bb384366e81",
   "metadata": {},
   "source": [
    "github: https://github.com/aesc1217/RSF_DFSP"
   ]
  },
  {
   "cell_type": "markdown",
   "id": "2d063260-3232-424a-980a-fe9b1ce36648",
   "metadata": {},
   "source": [
    "/Users/xxx/Desktop/rsf_model_T2W.zip  # RSF model based on radiomics features derived from T2W images\n",
    "\n",
    "/Users/xxx/Desktop/rsf_model_T1WC.zip # RSF model based on radiomics features derived from T1WC images\n",
    "\n",
    "/Users/xxx/Desktop/rsf_model_T1WC_T2W.zip # RSF model based on radiomics features derived from both T1WC and T2W images"
   ]
  },
  {
   "cell_type": "markdown",
   "id": "c24929f7-bf82-4146-bd3b-9b870487e5e1",
   "metadata": {},
   "source": [
    "## Install PySurvival "
   ]
  },
  {
   "cell_type": "markdown",
   "id": "9f696869-b734-47a2-ab6a-f7e4ef228ac2",
   "metadata": {},
   "source": [
    "https://square.github.io/pysurvival/installation.html"
   ]
  },
  {
   "cell_type": "markdown",
   "id": "4499cdce-7f3d-4553-ac68-753958e2a879",
   "metadata": {},
   "source": [
    "## Code sample (Loading RSF model)"
   ]
  },
  {
   "cell_type": "code",
   "execution_count": null,
   "id": "ed8b281f-9b02-421a-822f-a517b608a4b6",
   "metadata": {},
   "outputs": [],
   "source": [
    "from pysurvival.utils import load_model\n",
    "\n",
    "# Load RSF model based on radiomics features derived from T2W images\n",
    "rsf_model_T2W = load_model('/Users/xxx/Desktop/rsf_model_T2W.zip')\n",
    "\n",
    "# Load RSF model based on radiomics features derived from T1WC images\n",
    "rsf_model_T1WC = load_model('/Users/xxx/Desktop/rsf_model_T1WC.zip')\n",
    "\n",
    "# Load RSF model based on radiomics features derived from both T1WC and T2W images\n",
    "rsf_model_T1WC = load_model('/Users/xxx/Desktop/rsf_model_T1WC_T2W.zip')\n"
   ]
  }
 ],
 "metadata": {
  "kernelspec": {
   "display_name": "Python 3",
   "language": "python",
   "name": "python3"
  },
  "language_info": {
   "codemirror_mode": {
    "name": "ipython",
    "version": 3
   },
   "file_extension": ".py",
   "mimetype": "text/x-python",
   "name": "python",
   "nbconvert_exporter": "python",
   "pygments_lexer": "ipython3",
   "version": "3.8.8"
  }
 },
 "nbformat": 4,
 "nbformat_minor": 5
}
